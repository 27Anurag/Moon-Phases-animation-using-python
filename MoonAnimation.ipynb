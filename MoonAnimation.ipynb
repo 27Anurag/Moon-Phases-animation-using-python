{
  "nbformat": 4,
  "nbformat_minor": 0,
  "metadata": {
    "colab": {
      "name": "MoonAnimation.ipynb",
      "provenance": [],
      "include_colab_link": true
    },
    "kernelspec": {
      "name": "python3",
      "display_name": "Python 3"
    }
  },
  "cells": [
    {
      "cell_type": "markdown",
      "metadata": {
        "id": "view-in-github",
        "colab_type": "text"
      },
      "source": [
        "<a href=\"https://colab.research.google.com/github/27Anurag/Moon-Phases-animation-using-python/blob/master/MoonAnimation.ipynb\" target=\"_parent\"><img src=\"https://colab.research.google.com/assets/colab-badge.svg\" alt=\"Open In Colab\"/></a>"
      ]
    },
    {
      "cell_type": "code",
      "metadata": {
        "id": "tE3ynHFpbf8L",
        "colab_type": "code",
        "colab": {}
      },
      "source": [
        "imageNumber = \"0001\"\n",
        "URL = \"https://svs.gsfc.nasa.gov/vis/a000000/a004400/a004442/frames/730x730_1x1_30p/moon.5408.jpg\".format(imageNumber)"
      ],
      "execution_count": 0,
      "outputs": []
    },
    {
      "cell_type": "code",
      "metadata": {
        "id": "Ss1sq9QwcVQ2",
        "colab_type": "code",
        "outputId": "e43271ef-fb05-471c-c38a-572bd4336dac",
        "colab": {
          "base_uri": "https://localhost:8080/",
          "height": 34
        }
      },
      "source": [
        "from urllib import request\n",
        "request.urlretrieve(URL, 'image5408.jpg')"
      ],
      "execution_count": 17,
      "outputs": [
        {
          "output_type": "execute_result",
          "data": {
            "text/plain": [
              "('image5408.jpg', <http.client.HTTPMessage at 0x7f5a825ad390>)"
            ]
          },
          "metadata": {
            "tags": []
          },
          "execution_count": 17
        }
      ]
    },
    {
      "cell_type": "code",
      "metadata": {
        "id": "mm51J0jFciqn",
        "colab_type": "code",
        "colab": {}
      },
      "source": [
        "def getImage(imageNumber, directory):\n",
        "    URL = \"https://svs.gsfc.nasa.gov/vis/a000000/a004400/a004442/frames/730x730_1x1_30p/moon.{}.jpg\".format(imageNumber) \n",
        "    saveName = directory + imageNumber + \".jpg\"\n",
        "    request.urlretrieve(URL, saveName)\n",
        "    return"
      ],
      "execution_count": 0,
      "outputs": []
    },
    {
      "cell_type": "code",
      "metadata": {
        "id": "kh6ml27XdJwW",
        "colab_type": "code",
        "colab": {}
      },
      "source": [
        "def addZeros(imageNumber):\n",
        "    return '{:04d}'.format(imageNumber)"
      ],
      "execution_count": 0,
      "outputs": []
    },
    {
      "cell_type": "code",
      "metadata": {
        "id": "GcIbNLqZdPue",
        "colab_type": "code",
        "colab": {}
      },
      "source": [
        "for imageNumber in range(1, 1000):\n",
        "    print(\"Downloading image #{}\".format(imageNumber))\n",
        "    getImage(addZeros(imageNumber), '')"
      ],
      "execution_count": 0,
      "outputs": []
    },
    {
      "cell_type": "code",
      "metadata": {
        "id": "Xe63BLGrdVIP",
        "colab_type": "code",
        "colab": {}
      },
      "source": [
        "files = []\n",
        "for imageNumber in range(1, 1000):\n",
        "    files.append('' + addZeros(imageNumber) + '.jpg')"
      ],
      "execution_count": 0,
      "outputs": []
    },
    {
      "cell_type": "code",
      "metadata": {
        "id": "YYfDe4jHdx0f",
        "colab_type": "code",
        "colab": {}
      },
      "source": [
        "import imageio\n",
        "images = [imageio.imread(file) for file in files]"
      ],
      "execution_count": 0,
      "outputs": []
    },
    {
      "cell_type": "code",
      "metadata": {
        "id": "_0pM5P6Ad2Or",
        "colab_type": "code",
        "colab": {}
      },
      "source": [
        "imageio.mimsave('moonAnimation.gif', images,fps=2)"
      ],
      "execution_count": 0,
      "outputs": []
    },
    {
      "cell_type": "code",
      "metadata": {
        "id": "QjX5XJ8LeGTF",
        "colab_type": "code",
        "colab": {}
      },
      "source": [
        ""
      ],
      "execution_count": 0,
      "outputs": []
    }
  ]
}